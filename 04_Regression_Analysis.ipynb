{
 "cells": [
  {
   "cell_type": "markdown",
   "id": "cda7fb26",
   "metadata": {},
   "source": [
    "# Regression Analysis"
   ]
  },
  {
   "cell_type": "code",
   "execution_count": null,
   "id": "bde82c27",
   "metadata": {},
   "outputs": [],
   "source": [
    "import pandas as pd\n",
    "from sklearn.model_selection import train_test_split\n",
    "from sklearn.linear_model import LinearRegression\n",
    "from sklearn.metrics import mean_squared_error, r2_score\n",
    "from sklearn.preprocessing import MinMaxScaler\n",
    "from sklearn.metrics import mean_absolute_error, mean_squared_error, r2_score\n",
    "\n",
    "features = ['High', 'Volume']\n",
    "target = 'Close'\n",
    "\n",
    "scaler = MinMaxScaler()\n",
    "data[features] = scaler.fit_transform(data[features])\n",
    "\n",
    "X = data[features]\n",
    "y = data[target]\n",
    "\n",
    "X_train, X_test, y_train, y_test = train_test_split(X, y, test_size=0.2, random_state=42)\n",
    "\n",
    "X_train_simple = X_train[['High']]\n",
    "X_test_simple = X_test[['High']]\n",
    "\n",
    "lr_simple = LinearRegression()\n",
    "lr_simple.fit(X_train_simple, y_train)\n",
    "y_pred_train_simple = lr_simple.predict(X_train_simple)\n",
    "y_pred_test_simple = lr_simple.predict(X_test_simple)\n",
    "\n",
    "r2_train = r2_score(y_train, y_pred_train_simple)\n",
    "r2_test = r2_score(y_test, y_pred_test_simple)\n",
    "mse = mean_squared_error(y_test, y_pred_test_simple)\n",
    "mae = mean_absolute_error(y_test, y_pred_test_simple)\n",
    "rmse = np.sqrt(mse)\n",
    "\n",
    "print(\"Simple Linear Regression\")\n",
    "print(f\"Train R² Score: {r2_train:.4f}\")\n",
    "print(f\"Test R² Score : {r2_test:.4f}\")\n",
    "print(f\"MSE           : {mse:.4f}\")\n",
    "print(f\"RMSE          : {rmse:.4f}\")\n",
    "print(f\"MAE           : {mae:.4f}\")\n",
    "\n"
   ]
  },
  {
   "cell_type": "code",
   "execution_count": null,
   "id": "839ebcbd",
   "metadata": {},
   "outputs": [],
   "source": [
    "import matplotlib.pyplot as plt\n",
    "\n",
    "plt.figure(figsize=(14, 6))\n",
    "\n",
    "plt.subplot(1, 2, 1)\n",
    "plt.scatter(y_train, y_pred_train_simple, alpha=0.7, color='blue', label='Predicted')\n",
    "plt.plot([y_train.min(), y_train.max()], [y_train.min(), y_train.max()], 'r--', label='Ideal Line')\n",
    "plt.xlabel('Actual Close Price (Train)')\n",
    "plt.ylabel('Predicted Close Price (Train)')\n",
    "plt.title('Train: Predicted vs Actual')\n",
    "plt.legend()\n",
    "plt.grid(True)\n",
    "\n",
    "plt.subplot(1, 2, 2)\n",
    "plt.scatter(y_test, y_pred_test_simple, alpha=0.7, color='green', label='Predicted')\n",
    "plt.plot([y_test.min(), y_test.max()], [y_test.min(), y_test.max()], 'r--', label='Ideal Line')\n",
    "plt.xlabel('Actual Close Price (Test)')\n",
    "plt.ylabel('Predicted Close Price (Test)')\n",
    "plt.title('Test: Predicted vs Actual')\n",
    "plt.legend()\n",
    "plt.grid(True)\n",
    "\n",
    "plt.tight_layout()\n",
    "plt.show()"
   ]
  }
 ],
 "metadata": {
  "language_info": {
   "name": "python"
  }
 },
 "nbformat": 4,
 "nbformat_minor": 5
}
