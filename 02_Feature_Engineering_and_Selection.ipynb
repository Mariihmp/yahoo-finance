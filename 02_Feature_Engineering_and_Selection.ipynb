{
 "cells": [
  {
   "cell_type": "markdown",
   "id": "3d1f3a9c",
   "metadata": {},
   "source": [
    "### Feature extraction"
   ]
  },
  {
   "cell_type": "code",
   "execution_count": 5,
   "id": "40bfc322",
   "metadata": {},
   "outputs": [
    {
     "data": {
      "image/png": "[encoded data removed]",
      "text/plain": [
       "<Figure size 800x500 with 1 Axes>"
      ]
     },
     "metadata": {},
     "output_type": "display_data"
    }
   ],
   "source": [
    "import pandas as pd\n",
    "from sklearn.decomposition import PCA\n",
    "import matplotlib.pyplot as plt\n",
    "\n",
    "# Load preprocessed data from previous stage\n",
    "data = pd.read_csv(\"preprocessed_data.csv\")\n",
    "\n",
    "numeric_cols = ['Open', 'High', 'Low', 'Close', 'Volume']\n",
    "X_pca = data[numeric_cols]\n",
    "\n",
    "pca = PCA(n_components=len(numeric_cols))\n",
    "X_pca_transformed = pca.fit_transform(X_pca)\n",
    "\n",
    "plt.figure(figsize=(8, 5))\n",
    "plt.plot(range(1, len(numeric_cols)+1), pca.explained_variance_ratio_, marker='o', color='coral')\n",
    "plt.title('Explained Variance by PCA Components')\n",
    "plt.xlabel('Principal Component')\n",
    "plt.ylabel('Variance Ratio')\n",
    "plt.grid(True)\n",
    "plt.show()\n",
    "\n",
    "# Save feature engineered data for next stage\n",
    "data.to_csv('feature_engineered_data.csv', index=False)\n",
    "\n"
   ]
  },
  {
   "cell_type": "code",
   "execution_count": 6,
   "id": "839491a2",
   "metadata": {},
   "outputs": [
    {
     "name": "stdout",
     "output_type": "stream",
     "text": [
      "            PC1         PC2        Date\n",
      "0  4.486591e+07 -114.471251  2020-01-02\n",
      "1  5.570831e+07 -103.681698  2020-01-03\n",
      "2  2.777271e+07 -132.354053  2020-01-06\n",
      "3  1.825751e+07 -140.661373  2020-01-07\n",
      "4  4.146471e+07 -116.723890  2020-01-08\n"
     ]
    }
   ],
   "source": [
    "X_pca = data[numeric_cols]\n",
    "\n",
    "pca = PCA(n_components=2)\n",
    "X_pca_2d = pca.fit_transform(X_pca)\n",
    "\n",
    "pca_2d_df = pd.DataFrame(X_pca_2d, columns=['PC1', 'PC2'])\n",
    "pca_2d_df['Date'] = data['Date'].values\n",
    "\n",
    "print(pca_2d_df.head())"
   ]
  },
  {
   "cell_type": "markdown",
   "id": "868849e9",
   "metadata": {},
   "source": [
    "## Feature selection"
   ]
  },
  {
   "cell_type": "code",
   "execution_count": null,
   "id": "ffa338f3",
   "metadata": {},
   "outputs": [],
   "source": [
    "from sklearn.feature_selection import mutual_info_classif\n",
    "\n",
    "# 1 if next day Close > current Close, else 0\n",
    "data['Target'] = (data['Close'].shift(-1) >\n",
    "\n",
    "stock_data.dropna(inplace=True)\n",
    "\n",
    "X_ig = stock_data[numeric_cols]\n",
    "y_ig = stock_data['Target']\n",
    "mi_scores = mutual_info_classif(X_ig, y_ig)\n",
    "\n",
    "ig_df = pd.DataFrame({\n",
    "    'Feature': numeric_cols,\n",
    "    'Mutual Information': mi_scores\n",
    "}).sort_values(by='Mutual Information', ascending=False)\n",
    "\n",
    "plt.figure(figsize=(8, 5))\n",
    "sns.barplot(data=ig_df, x='Mutual Information', y='Feature', palette='viridis')\n",
    "plt.title('Information Gain (Mutual Information) of Features')\n",
    "plt.show()"
   ]
  },
  {
   "cell_type": "code",
   "execution_count": null,
   "id": "47a72236",
   "metadata": {},
   "outputs": [],
   "source": [
    "selected_features = ['High', 'Volume']\n",
    "X_ig_top3 = data[selected_features].copy()\n",
    "\n",
    "X_ig_top3['Date'] = data['Date'].values\n",
    "\n",
    "print(X_ig_top3.head())\n",
    "\n",
    "# Save selected features for next stage\n",
    "X_ig_top3.to_csv('selected_features_data.csv', index=False)\n"
   ]
  },
  {
   "cell_type": "markdown",
   "id": "aa5920e5",
   "metadata": {},
   "source": [
    "## Moving Average"
   ]
  },
  {
   "cell_type": "code",
   "execution_count": null,
   "id": "fb2ec872",
   "metadata": {},
   "outputs": [],
   "source": [
    "ma_df = data.copy()\n",
    "ma_df['MA_7'] = ma_df['Close'].rolling(window=7).mean()\n",
    "ma_df['MA_30'] = ma_df['Close'].rolling(window=30).mean()\n",
    "\n",
    "plt.figure(figsize=(14, 7))\n",
    "plt.style.use('dark_background')\n",
    "\n",
    "plt.plot(ma_df.index, ma_df['Close'], label='Close Price (AAPL)', color='dodgerblue', alpha=0.7)\n",
    "\n",
    "plt.plot(ma_df.index, ma_df['MA_7'], label='7-Day MA', color='orange', linestyle='--')\n",
    "plt.plot(ma_df.index, ma_df['MA_30'], label='30-Day MA', color='brown', linestyle='-')\n",
    "\n",
    "plt.title(\" The Impact of Moving Average on AAPL Price (2020–2024)\", fontsize=16)\n",
    "plt.xlabel(\"Date\", fontsize=12)\n",
    "plt.ylabel(\"Price ($)\", fontsize=12)\n",
    "\n",
    "\n",
    "cross_up = ma_df[ma_df['MA_7'] > ma_df['MA_30']].index\n",
    "cross_down = ma_df[ma_df['MA_7'] < ma_df['MA_30']].index\n",
    "\n",
    "plt.fill_between(cross_up, ma_df.loc[cross_up, 'MA_7'], ma_df.loc[cross_up, 'MA_30'],\n",
    "                 color='limegreen', alpha=0.3, label='Golden Cross')\n",
    "plt.fill_between(cross_down, ma_df.loc[cross_down, 'MA_7'], ma_df.loc[cross_down, 'MA_30'],\n",
    "                 color='crimson', alpha=0.3, label='Death Cross')\n",
    "\n",
    "plt.legend(fontsize=12)\n",
    "plt.tight_layout()\n",
    "plt.show()\n"
   ]
  }
 ],
 "metadata": {
  "kernelspec": {
   "display_name": "myenv",
   "language": "python",
   "name": "python3"
  },
  "language_info": {
   "codemirror_mode": {
    "name": "ipython",
    "version": 3
   },
   "file_extension": ".py",
   "mimetype": "text/x-python",
   "name": "python",
   "nbconvert_exporter": "python",
   "pygments_lexer": "ipython3",
   "version": "3.9.21"
  }
 },
 "nbformat": 4,
 "nbformat_minor": 5
}
