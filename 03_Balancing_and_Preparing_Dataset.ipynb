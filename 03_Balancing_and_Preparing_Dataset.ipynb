{
 "cells": [
  {
   "cell_type": "markdown",
   "id": "5fb82039",
   "metadata": {},
   "source": [
    "## Balancing Dataset"
   ]
  },
  {
   "cell_type": "code",
   "execution_count": null,
   "id": "21524e40",
   "metadata": {},
   "outputs": [],
   "source": [
    "data = stock_data_iqr.copy()\n",
    "\n",
    "data = data.drop(columns=['Date'])\n",
    "\n",
    "data['Target'] = (data['Close'].diff().shift(-1) > 0).astype(int)\n",
    "data = data.dropna()\n"
   ]
  },
  {
   "cell_type": "code",
   "execution_count": null,
   "id": "db1db2ee",
   "metadata": {},
   "outputs": [],
   "source": [
    "print(\"dataset shape:\", data.shape)\n",
    "print(data[['Target']].value_counts(normalize=True))\n"
   ]
  },
  {
   "cell_type": "code",
   "execution_count": null,
   "id": "f7029869",
   "metadata": {},
   "outputs": [],
   "source": [
    "from imblearn.over_sampling import SMOTE\n",
    "from sklearn.model_selection import train_test_split\n",
    "\n",
    "X = data.drop(columns=['Target'])\n",
    "y = data['Target']\n",
    "\n",
    "X_train, X_test, y_train, y_test = train_test_split(X, y, test_size=0.2, random_state=42, stratify=y)\n",
    "\n",
    "smote = SMOTE(random_state=42)\n",
    "X_train_smote, y_train_smote = smote.fit_resample(X_train, y_train)"
   ]
  },
  {
   "cell_type": "code",
   "execution_count": null,
   "id": "ca37c268",
   "metadata": {},
   "outputs": [],
   "source": [
    "balanced_df = pd.DataFrame(X_train_smote, columns=X_train.columns)\n",
    "balanced_df['Target'] = y_train_smote.reset_index(drop=True)\n",
    "\n",
    "balanced_df.to_csv('balanced_df.csv', index=False)\n"
   ]
  },
  {
   "cell_type": "code",
   "execution_count": null,
   "id": "80fb73e7",
   "metadata": {},
   "outputs": [],
   "source": [
    "print(\"Final dataset shape:\", balanced_df.shape)\n",
    "print(balanced_df[['Target']].value_counts(normalize=True))\n"
   ]
  },
  {
   "cell_type": "code",
   "execution_count": null,
   "id": "85306451",
   "metadata": {},
   "outputs": [],
   "source": [
    "print(balanced_df.columns)"
   ]
  }
 ],
 "metadata": {
  "language_info": {
   "name": "python"
  }
 },
 "nbformat": 4,
 "nbformat_minor": 5
}
